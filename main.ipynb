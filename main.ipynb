{
 "cells": [
  {
   "cell_type": "code",
   "execution_count": 4,
   "id": "11323b28",
   "metadata": {},
   "outputs": [
    {
     "name": "stdout",
     "output_type": "stream",
     "text": [
      "Looking in indexes: http://mirrors.aliyun.com/pypi/simple/\n",
      "Requirement already satisfied: c2net in /home/ma-user/anaconda3/envs/MindSpore/lib/python3.9/site-packages (0.1.9)\n",
      "\u001b[33mDEPRECATION: moxing-framework 2.1.16.2ae09d45 has a non-standard version number. pip 24.0 will enforce this behaviour change. A possible replacement is to upgrade to a newer version of moxing-framework or contact the author to suggest that they release a version with a conforming version number. Discussion can be found at https://github.com/pypa/pip/issues/12063\u001b[0m\u001b[33m\n",
      "\u001b[0m\u001b[33mWARNING: Running pip as the 'root' user can result in broken permissions and conflicting behaviour with the system package manager. It is recommended to use a virtual environment instead: https://pip.pypa.io/warnings/venv\u001b[0m\u001b[33m\n",
      "\u001b[0m\n",
      "       ___                _            _            _          \n",
      "      |__ \\              | |          | |          | |         \n",
      "  ___    ) | _ __    ___ | |_  ______ | |__    ___ | |_   __ _ \n",
      " / __|  / / | '_ \\  / _ \\| __||______|| '_ \\  / _ \\| __| / _` |\n",
      "| (__  / /_ | | | ||  __/| |_         | |_) ||  __/| |_ | (_| |\n",
      " \\___||____||_| |_| \\___| \\__|        |_.__/  \\___| \\__| \\__,_|\n",
      "                                                               \n",
      "         \n",
      "\n",
      "If you have any problems while preparing the data, you can submit an issue in this repository: https://openi.pcl.ac.cn/OpenIOSSG/c2net-pypi\n",
      "        \n",
      "Detected .code_cache_file already exists, code has been prepared!\n",
      "please set c2net_context.output_path as the output location\n"
     ]
    }
   ],
   "source": [
    "# 通过c2net库方式获取模型、数据集和输出路径\n",
    "\n",
    "# 安装 c2net\n",
    "!pip install -U c2net\n",
    "# 导入包\n",
    "from c2net.context import prepare, upload_output\n",
    "# 初始化导入数据集和预训练模型到容器内\n",
    "c2net_context = prepare()\n",
    "\n",
    "# 获取代码路径，数据集路径，预训练模型路径，输出路径\n",
    "code_path = c2net_context.code_path + \"/\" + \"QuickUseATC\".lower()\n",
    "dataset_path = c2net_context.dataset_path\n",
    "pretrain_model_path = c2net_context.pretrain_model_path"
   ]
  },
  {
   "cell_type": "code",
   "execution_count": 23,
   "id": "3cacb46f",
   "metadata": {},
   "outputs": [],
   "source": [
    "# 以 yolov5s 为例，进行 ATC 模型转换\n",
    "model_path = pretrain_model_path + \"/\" + \"YoloV5s\"\n"
   ]
  },
  {
   "cell_type": "code",
   "execution_count": null,
   "id": "0c088120",
   "metadata": {},
   "outputs": [],
   "source": [
    "# 下载 onnx 模型\n",
    "!wget https://obs-9be7.obs.cn-east-2.myhuaweicloud.com/003_Atc_Models/yolov5s/yolov5s_nms.onnx --no-check-certificate -P $model_path\n",
    "\n",
    "# 下载 aipp.cfg\n",
    "!wget https://obs-9be7.obs.cn-east-2.myhuaweicloud.com/003_Atc_Models/yolov5s/aipp.cfg --no-check-certificate -P $model_path"
   ]
  },
  {
   "cell_type": "code",
   "execution_count": 24,
   "id": "1de34875",
   "metadata": {},
   "outputs": [
    {
     "name": "stdout",
     "output_type": "stream",
     "text": [
      "/tmp/pretrainmodel/YoloV5s\n",
      "ATC start working now, please wait for a moment.\n",
      "...\n",
      "ATC run success, welcome to the next use.\n",
      "\n"
     ]
    }
   ],
   "source": [
    "# 模型转换\n",
    "%cd $model_path\n",
    "!atc --model=yolov5s_nms.onnx --framework=5 --output=yolov5s_nms --input_shape=\"images:1,3,640,640;img_info:1,4\"  --soc_version=Ascend310B4  --insert_op_conf=aipp.cfg\n"
   ]
  },
  {
   "cell_type": "code",
   "execution_count": 30,
   "id": "29782c45",
   "metadata": {},
   "outputs": [
    {
     "name": "stdout",
     "output_type": "stream",
     "text": [
      "total 43080\n",
      "-rw-r--r-- 1 root root      795 Jan 12 08:38 aipp.cfg\n",
      "-rw-r----- 1 root root     2806 Apr  2 18:01 fusion_result.json\n",
      "-rw------- 1 root root 15178064 Apr  2 18:01 yolov5s_nms.om\n",
      "-rw-r--r-- 1 root root 28925178 Jan 12 08:38 yolov5s_nms.onnx\n"
     ]
    }
   ],
   "source": [
    "# 模型下载\n",
    "# 将模型复制到当前工作空间，右键点击-download\n",
    "!ls -l\n",
    "!cp yolov5s_nms.om $code_path\n"
   ]
  }
 ],
 "metadata": {
  "kernelspec": {
   "display_name": "Python 3 (ipykernel)",
   "language": "python",
   "name": "python3"
  },
  "language_info": {
   "codemirror_mode": {
    "name": "ipython",
    "version": 3
   },
   "file_extension": ".py",
   "mimetype": "text/x-python",
   "name": "python",
   "nbconvert_exporter": "python",
   "pygments_lexer": "ipython3",
   "version": "3.9.18"
  }
 },
 "nbformat": 4,
 "nbformat_minor": 5
}
